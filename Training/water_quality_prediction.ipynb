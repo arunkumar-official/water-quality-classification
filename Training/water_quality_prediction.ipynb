{
 "cells": [
  {
   "cell_type": "code",
   "execution_count": null,
   "id": "80ac153a",
   "metadata": {},
   "outputs": [],
   "source": [
    "import tensorflow as tf\n",
    "import matplotlib.pyplot as plt\n",
    "import cv2\n",
    "import os\n",
    "import numpy as np\n",
    "from tensorflow import keras"
   ]
  },
  {
   "cell_type": "code",
   "execution_count": null,
   "id": "8944386c",
   "metadata": {},
   "outputs": [],
   "source": [
    "train=keras.preprocessing.image.ImageDataGenerator(rescale=1/255)\n",
    "test=keras.preprocessing.image.ImageDataGenerator(rescale=1/255)"
   ]
  },
  {
   "cell_type": "code",
   "execution_count": null,
   "id": "9f65e2ec",
   "metadata": {},
   "outputs": [],
   "source": [
    "train_dataset=train.flow_from_directory(\"./image_classify/\",\n",
    "target_size=(200,200),batch_size=3,class_mode=\"binary\")\n",
    "test_dataser=train.flow_from_directory(\"./test/\",\n",
    "target_size=(200,200),batch_size=3,class_mode=\"binary\")"
   ]
  },
  {
   "cell_type": "code",
   "execution_count": null,
   "id": "e34ace8c",
   "metadata": {},
   "outputs": [],
   "source": [
    "model=tf.keras.models.Sequential([tf.keras.layers.Conv2D(16,(3,3),activation='relu',input_shape=(200,200,3)),\n",
    "                                  tf.keras.layers.MaxPool2D(2,2),\n",
    "                                  tf.keras.layers.Conv2D(32,(3,3),activation='relu'),\n",
    "                                  tf.keras.layers.MaxPool2D(2,2),\n",
    "                                  tf.keras.layers.Conv2D(64,(3,3),activation='relu'),\n",
    "                                  tf.keras.layers.MaxPool2D(2,2),\n",
    "                                  tf.keras.layers.Flatten(),\n",
    "                                  tf.keras.layers.Dense(512,activation='relu'),\n",
    "                                  tf.keras.layers.Dense(1,activation='sigmoid')\n",
    "\n",
    "])"
   ]
  },
  {
   "cell_type": "code",
   "execution_count": null,
   "id": "fc71e454-3d2d-4775-b42e-8484954cd869",
   "metadata": {},
   "outputs": [],
   "source": [
    "model.compile(loss='binary_crossentropy',\n",
    "              optimizer= keras.optimizers.RMSprop(lr=0.001),\n",
    "              metrics=['accuracy'])"
   ]
  },
  {
   "cell_type": "code",
   "execution_count": null,
   "id": "c57fcfce-9e67-4b6a-934e-5a2b0e22ff3a",
   "metadata": {},
   "outputs": [],
   "source": [
    "model_fit=model.fit(train_dataset,\n",
    "                    steps_per_epoch = 5,\n",
    "                    epochs=30,\n",
    "                    validation_data=test_dataser)"
   ]
  },
  {
   "cell_type": "code",
   "execution_count": null,
   "id": "b2dcf573-be0e-45f0-b7f3-818d6afde2d8",
   "metadata": {},
   "outputs": [],
   "source": [
    "import pickle\n",
    "\n",
    "pickle.dump(model,open(\"water_modl_lcl.pkl\",\"wb\"))"
   ]
  }
 ],
 "metadata": {
  "kernelspec": {
   "display_name": "Python 3 (ipykernel)",
   "language": "python",
   "name": "python3"
  },
  "language_info": {
   "codemirror_mode": {
    "name": "ipython",
    "version": 3
   },
   "file_extension": ".py",
   "mimetype": "text/x-python",
   "name": "python",
   "nbconvert_exporter": "python",
   "pygments_lexer": "ipython3",
   "version": "3.9.12"
  }
 },
 "nbformat": 4,
 "nbformat_minor": 5
}
